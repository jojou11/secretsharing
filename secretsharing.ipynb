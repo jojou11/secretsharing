{
 "cells": [
  {
   "cell_type": "code",
   "execution_count": 52,
   "metadata": {},
   "outputs": [
    {
     "name": "stdout",
     "output_type": "stream",
     "text": [
      "What's your secret?ola tudo bem\n",
      "What's the minimum amount of keys will be needed to reveal the secret?\n",
      "How many keys you want to create?\n"
     ]
    }
   ],
   "source": [
    "import string\n",
    "import random\n",
    "\n",
    "alfa = list(string.ascii_lowercase)\n",
    "\n",
    "secret = input(\"What's your secret?\")\n",
    "k = input(\"What's the minimum amount of keys will be needed to reveal the secret?\")\n",
    "n = input(\"How many keys you want to create?\")\n",
    "\n"
   ]
  },
  {
   "cell_type": "code",
   "execution_count": 61,
   "metadata": {},
   "outputs": [
    {
     "name": "stdout",
     "output_type": "stream",
     "text": [
      "879857x + 141100261920031426010412\n"
     ]
    }
   ],
   "source": [
    "alfanum = list(string.ascii_lowercase+' '+string.digits)\n",
    "stringcodified = ''\n",
    "\n",
    "for i in secret.lower():\n",
    "    for a,b in enumerate(alfanum):\n",
    "        if i == b:\n",
    "            if a <= 9:\n",
    "                a = \"0\"+str(a)\n",
    "                stringcodified = stringcodified + a\n",
    "            else:\n",
    "                a = str(a)\n",
    "                stringcodified = stringcodified + a\n",
    "            \n",
    "print(str(random.randint(100000,1000000))+'x + '+stringcodified)"
   ]
  },
  {
   "cell_type": "code",
   "execution_count": null,
   "metadata": {},
   "outputs": [],
   "source": [
    "#keygen\n",
    "\n"
   ]
  }
 ],
 "metadata": {
  "kernelspec": {
   "display_name": "Python 3",
   "language": "python",
   "name": "python3"
  },
  "language_info": {
   "codemirror_mode": {
    "name": "ipython",
    "version": 3
   },
   "file_extension": ".py",
   "mimetype": "text/x-python",
   "name": "python",
   "nbconvert_exporter": "python",
   "pygments_lexer": "ipython3",
   "version": "3.7.3"
  }
 },
 "nbformat": 4,
 "nbformat_minor": 2
}
