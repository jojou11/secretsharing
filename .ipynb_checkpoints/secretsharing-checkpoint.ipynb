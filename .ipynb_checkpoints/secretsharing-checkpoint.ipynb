{
 "cells": [
  {
   "cell_type": "code",
   "execution_count": 6,
   "metadata": {},
   "outputs": [
    {
     "name": "stdout",
     "output_type": "stream",
     "text": [
      "What's your secret?\n",
      "What's the minimum amount of keys will be needed to reveal the secret?\n",
      "How many keys you want to create?\n"
     ]
    },
    {
     "data": {
      "text/plain": [
       "['a',\n",
       " 'b',\n",
       " 'c',\n",
       " 'd',\n",
       " 'e',\n",
       " 'f',\n",
       " 'g',\n",
       " 'h',\n",
       " 'i',\n",
       " 'j',\n",
       " 'k',\n",
       " 'l',\n",
       " 'm',\n",
       " 'n',\n",
       " 'o',\n",
       " 'p',\n",
       " 'q',\n",
       " 'r',\n",
       " 's',\n",
       " 't',\n",
       " 'u',\n",
       " 'v',\n",
       " 'w',\n",
       " 'x',\n",
       " 'y',\n",
       " 'z']"
      ]
     },
     "execution_count": 6,
     "metadata": {},
     "output_type": "execute_result"
    }
   ],
   "source": [
    "import string\n",
    "\n",
    "alfa = list(string.ascii_lowercase)\n",
    "\n",
    "secret = input(\"What's your secret?\")\n",
    "k = input(\"What's the minimum amount of keys will be needed to reveal the secret?\")\n",
    "n = input(\"How many keys you want to create?\")\n",
    "\n"
   ]
  },
  {
   "cell_type": "code",
   "execution_count": 30,
   "metadata": {},
   "outputs": [
    {
     "name": "stdout",
     "output_type": "stream",
     "text": [
      "14\n",
      "11\n",
      "00\n",
      "26\n",
      "18\n",
      "14\n",
      "20\n",
      "26\n",
      "20\n",
      "12\n",
      "26\n",
      "19\n",
      "04\n",
      "23\n",
      "19\n",
      "14\n",
      "26\n",
      "12\n",
      "20\n",
      "08\n",
      "19\n",
      "14\n",
      "26\n",
      "08\n",
      "13\n",
      "19\n",
      "04\n",
      "17\n",
      "04\n",
      "18\n",
      "18\n",
      "00\n",
      "13\n",
      "19\n",
      "04\n"
     ]
    }
   ],
   "source": [
    "alfa = list(string.ascii_lowercase)\n",
    "alfa.append(' ')\n",
    "\n",
    "texto = 'Ola sou um texto muito interessante'\n",
    "\n",
    "for i in texto.lower():\n",
    "    for a,b in enumerate(alfa):\n",
    "        if i == b:\n",
    "            if a <= 9:\n",
    "                a = str(a)\n",
    "                print(\"0\"+a)\n",
    "            else:\n",
    "                print(a)\n",
    "\n",
    "            "
   ]
  },
  {
   "cell_type": "code",
   "execution_count": 22,
   "metadata": {},
   "outputs": [
    {
     "data": {
      "text/plain": [
       "['a',\n",
       " 'b',\n",
       " 'c',\n",
       " 'd',\n",
       " 'e',\n",
       " 'f',\n",
       " 'g',\n",
       " 'h',\n",
       " 'i',\n",
       " 'j',\n",
       " 'k',\n",
       " 'l',\n",
       " 'm',\n",
       " 'n',\n",
       " 'o',\n",
       " 'p',\n",
       " 'q',\n",
       " 'r',\n",
       " 's',\n",
       " 't',\n",
       " 'u',\n",
       " 'v',\n",
       " 'w',\n",
       " 'x',\n",
       " 'y',\n",
       " 'z',\n",
       " ' ']"
      ]
     },
     "execution_count": 22,
     "metadata": {},
     "output_type": "execute_result"
    }
   ],
   "source": [
    "alfa = list(string.ascii_lowercase)\n",
    "alfa.append(' ')\n",
    "alfa"
   ]
  },
  {
   "cell_type": "code",
   "execution_count": null,
   "metadata": {},
   "outputs": [],
   "source": []
  }
 ],
 "metadata": {
  "kernelspec": {
   "display_name": "Python 3",
   "language": "python",
   "name": "python3"
  },
  "language_info": {
   "codemirror_mode": {
    "name": "ipython",
    "version": 3
   },
   "file_extension": ".py",
   "mimetype": "text/x-python",
   "name": "python",
   "nbconvert_exporter": "python",
   "pygments_lexer": "ipython3",
   "version": "3.7.3"
  }
 },
 "nbformat": 4,
 "nbformat_minor": 2
}
